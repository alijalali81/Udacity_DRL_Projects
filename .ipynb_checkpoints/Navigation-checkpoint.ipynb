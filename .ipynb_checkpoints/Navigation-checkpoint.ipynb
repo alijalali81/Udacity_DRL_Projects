{
 "cells": [
  {
   "cell_type": "markdown",
   "metadata": {},
   "source": [
    "# Navigation\n",
    "\n",
    "---\n",
    "\n",
    "You are welcome to use this coding environment to train your agent for the project.  Follow the instructions below to get started!\n",
    "\n",
    "### 1. Start the Environment\n",
    "\n",
    "Run the next code cell to install a few packages.  This line will take a few minutes to run!"
   ]
  },
  {
   "cell_type": "code",
   "execution_count": 1,
   "metadata": {},
   "outputs": [],
   "source": [
    "!pip -q install ./python"
   ]
  },
  {
   "cell_type": "markdown",
   "metadata": {},
   "source": [
    "The environment is already saved in the Workspace and can be accessed at the file path provided below.  Please run the next code cell without making any changes."
   ]
  },
  {
   "cell_type": "code",
   "execution_count": 2,
   "metadata": {},
   "outputs": [
    {
     "name": "stderr",
     "output_type": "stream",
     "text": [
      "INFO:unityagents:\n",
      "'Academy' started successfully!\n",
      "Unity Academy name: Academy\n",
      "        Number of Brains: 1\n",
      "        Number of External Brains : 1\n",
      "        Lesson number : 0\n",
      "        Reset Parameters :\n",
      "\t\t\n",
      "Unity brain name: BananaBrain\n",
      "        Number of Visual Observations (per agent): 0\n",
      "        Vector Observation space type: continuous\n",
      "        Vector Observation space size (per agent): 37\n",
      "        Number of stacked Vector Observation: 1\n",
      "        Vector Action space type: discrete\n",
      "        Vector Action space size (per agent): 4\n",
      "        Vector Action descriptions: , , , \n"
     ]
    }
   ],
   "source": [
    "from unityagents import UnityEnvironment\n",
    "import numpy as np\n",
    "\n",
    "# please do not modify the line below\n",
    "env = UnityEnvironment(file_name=\"/data/Banana_Linux_NoVis/Banana.x86_64\")"
   ]
  },
  {
   "cell_type": "markdown",
   "metadata": {},
   "source": [
    "Environments contain **_brains_** which are responsible for deciding the actions of their associated agents. Here we check for the first brain available, and set it as the default brain we will be controlling from Python."
   ]
  },
  {
   "cell_type": "code",
   "execution_count": 3,
   "metadata": {},
   "outputs": [],
   "source": [
    "# get the default brain\n",
    "brain_name = env.brain_names[0]\n",
    "brain = env.brains[brain_name]"
   ]
  },
  {
   "cell_type": "markdown",
   "metadata": {},
   "source": [
    "### 2. Examine the State and Action Spaces\n",
    "\n",
    "Run the code cell below to print some information about the environment.\n",
    "\n",
    "The agent can take 4 actions: forward, backward, right, and left.\n",
    "\n",
    "The environment has 37 states."
   ]
  },
  {
   "cell_type": "code",
   "execution_count": 4,
   "metadata": {},
   "outputs": [
    {
     "name": "stdout",
     "output_type": "stream",
     "text": [
      "Number of agents: 1\n",
      "Number of actions: 4\n",
      "States look like: [ 1.          0.          0.          0.          0.84408134  0.          0.\n",
      "  1.          0.          0.0748472   0.          1.          0.          0.\n",
      "  0.25755     1.          0.          0.          0.          0.74177343\n",
      "  0.          1.          0.          0.          0.25854847  0.          0.\n",
      "  1.          0.          0.09355672  0.          1.          0.          0.\n",
      "  0.31969345  0.          0.        ]\n",
      "States have length: 37\n"
     ]
    }
   ],
   "source": [
    "# reset the environment\n",
    "env_info = env.reset(train_mode=True)[brain_name]\n",
    "\n",
    "# number of agents in the environment\n",
    "print('Number of agents:', len(env_info.agents))\n",
    "\n",
    "# number of actions\n",
    "action_size = brain.vector_action_space_size\n",
    "print('Number of actions:', action_size)\n",
    "\n",
    "# examine the state space \n",
    "state = env_info.vector_observations[0]\n",
    "print('States look like:', state)\n",
    "state_size = len(state)\n",
    "print('States have length:', state_size)"
   ]
  },
  {
   "cell_type": "markdown",
   "metadata": {},
   "source": [
    "### 3. Take Random Actions in the Environment\n",
    "\n",
    "In the next code cell, you will learn how to use the Python API to control the agent and receive feedback from the environment.\n",
    "\n",
    "Note that **in this coding environment, you will not be able to watch the agent while it is training**, and you should set `train_mode=True` to restart the environment."
   ]
  },
  {
   "cell_type": "code",
   "execution_count": 5,
   "metadata": {},
   "outputs": [
    {
     "name": "stdout",
     "output_type": "stream",
     "text": [
      "Score: 0.0\n"
     ]
    }
   ],
   "source": [
    "env_info = env.reset(train_mode=True)[brain_name] # reset the environment\n",
    "state = env_info.vector_observations[0]            # get the current state\n",
    "score = 0                                          # initialize the score\n",
    "while True:\n",
    "    action = np.random.randint(action_size)        # select an action\n",
    "    env_info = env.step(action)[brain_name]        # send the action to the environment\n",
    "    next_state = env_info.vector_observations[0]   # get the next state\n",
    "    reward = env_info.rewards[0]                   # get the reward\n",
    "    done = env_info.local_done[0]                  # see if episode has finished\n",
    "    score += reward                                # update the score\n",
    "    state = next_state                             # roll over the state to next time step\n",
    "    if done:                                       # exit loop if episode finished\n",
    "        break\n",
    "    \n",
    "print(\"Score: {}\".format(score))"
   ]
  },
  {
   "cell_type": "markdown",
   "metadata": {},
   "source": [
    "When finished, you can close the environment."
   ]
  },
  {
   "cell_type": "code",
   "execution_count": 6,
   "metadata": {},
   "outputs": [],
   "source": [
    "env.close()"
   ]
  },
  {
   "cell_type": "markdown",
   "metadata": {},
   "source": [
    "### 4. It's Your Turn!\n",
    "\n",
    "Now it's your turn to train your own agent to solve the environment!  A few **important notes**:\n",
    "- When training the environment, set `train_mode=True`, so that the line for resetting the environment looks like the following:\n",
    "```python\n",
    "env_info = env.reset(train_mode=True)[brain_name]\n",
    "```\n",
    "- To structure your work, you're welcome to work directly in this Jupyter notebook, or you might like to start over with a new file!  You can see the list of files in the workspace by clicking on **_Jupyter_** in the top left corner of the notebook.\n",
    "- In this coding environment, you will not be able to watch the agent while it is training.  However, **_after training the agent_**, you can download the saved model weights to watch the agent on your own machine! "
   ]
  },
  {
   "cell_type": "code",
   "execution_count": 1,
   "metadata": {},
   "outputs": [],
   "source": [
    "from IPython.display import display, Math, Latex"
   ]
  },
  {
   "cell_type": "markdown",
   "metadata": {},
   "source": [
    "### DQN Algorithm"
   ]
  },
  {
   "cell_type": "markdown",
   "metadata": {},
   "source": [
    "Reinforcement learning is known to be unstable or even to diverge. This\n",
    "instability has several causes: the correlations present in the sequence\n",
    "of observations, thefact that small updates to $Q$ may significantly change\n",
    "the policy and therefore change the data distribution, and the correlations\n",
    "between the action-values $(Q)$ and the target value: $r+\\gamma_{max} Q(s\\prime,a\\prime)$.\n",
    "\n",
    "Deep Q Network (DQN) developed to address the above mentioned problems in RL. DQN is off-policy reinforcement learning which is a variation of Q-learning algorithm. In DQN deep  neural network is used to approximate the optimal action-value function which is the maximum sum of rewards $r_t$ discounted by $\\gamma$ at each timestep $t$, achievable by a behaviour policy $\\pi=P(a|s)$, after making an\n",
    "observation ($s$) and taking an action ($a$) (see Methods)And it uses replay memory.\n",
    "\n",
    "\n",
    "<br>Replay memory can break the correlation of samples, because the training data doesn't depend on time.<br>In NN training, DQN uses Mean Squared Error(or Huber loss) for training loss.<br>"
   ]
  },
  {
   "cell_type": "markdown",
   "metadata": {},
   "source": [
    "### Importing the required packages"
   ]
  },
  {
   "cell_type": "code",
   "execution_count": 6,
   "metadata": {},
   "outputs": [],
   "source": [
    "import torch\n",
    "import random\n",
    "import collections\n",
    "import pickle\n",
    "#from unityagents import UnityEnvironment\n",
    "#import numpy as np\n",
    "import matplotlib.pyplot as plt"
   ]
  },
  {
   "cell_type": "markdown",
   "metadata": {},
   "source": [
    "### Defining the Deep Q Network agent (DQN) as a class"
   ]
  },
  {
   "cell_type": "code",
   "execution_count": 7,
   "metadata": {},
   "outputs": [],
   "source": [
    "l_r=0.001 # Default Learning Rate \n",
    "d_r=0.95 # Default Discount Rate\n",
    "r_s=3000 # Replay Memory Buffer\n",
    "b_s=64 # Default Batch Size\n",
    "\n",
    "class DQNAgt:\n",
    "    def __init__(self, state_size, action_size, build_network, lr=l_r, dr=d_r,\n",
    "                 rs=r_s, bs=b_s):\n",
    "        \n",
    "        torch.set_default_tensor_type('torch.cuda.FloatTensor')\n",
    "        torch.cuda.set_device(0)\n",
    "        \n",
    "        self.state_size = state_size\n",
    "        self.action_size = action_size\n",
    "        self.lr = lr\n",
    "        self.batch_size = bs\n",
    "        self.discount_rate = dr\n",
    "        self.replay_memory = collections.deque(maxlen=r_s)\n",
    "        self.running_network = build_network.cuda()\n",
    "        self.target_network = build_network.cuda()\n",
    "\n",
    "        self.running_optimizer = torch.optim.RMSprop(self.running_network.parameters(), lr=self.lr)\n",
    "        self.update_target_network()\n",
    "\n",
    "    def update_target_network(self):\n",
    "        self.target_network.load_state_dict(self.running_network.state_dict())\n",
    "    \n",
    "    def optimize(self, x, y):\n",
    "        loss_func = torch.nn.SmoothL1Loss() \n",
    "        #loss_func = torch.nn.MSELoss()\n",
    "        loss = loss_func(x, y)\n",
    "        self.running_optimizer.zero_grad()\n",
    "        loss.backward()\n",
    "        self.runner_optimizer.step()\n",
    "    \n",
    "    def get_action(self, state):\n",
    "        self.running_network.eval()\n",
    "        return np.argmax(self.running_network(torch.tensor([state], requires_grad=False, dtype=torch.float32)).cpu().detach().numpy())\n",
    "    \n",
    "    def max_q(self, state):\n",
    "        self.running_network.eval()\n",
    "        return np.max(self.running_network(torch.tensor([state], requires_grad=False, dtype=torch.float32)).cpu().detach().numpy())\n",
    "        \n",
    "    \n",
    "    def append_replay_memory(self, state, action, reward, next_state, done):\n",
    "        self.replay_memory.append([state, action, reward, next_state, done])\n",
    "    \n",
    "    def get_batch(self):\n",
    "        batch = random.sample(self.replay_memory, self.batch_size)\n",
    "        state, next_state = np.empty([self.batch_size, self.state_size*4]), np.empty([self.batch_size, self.state_size*4])\n",
    "        action, reward, done = [], [], []\n",
    "        \n",
    "        for i in range(self.batch_size):\n",
    "            state[i] = batch[i][0]\n",
    "            action.append(batch[i][1])\n",
    "            reward.append(batch[i][2])\n",
    "            next_state[i] = batch[i][3]\n",
    "            done.append(batch[i][4])\n",
    "        return state, action, reward, next_state, done\n",
    "    \n",
    "    def train(self):\n",
    "        self.running_network.train()\n",
    "        s, a, r, s_n, d = self.get_batch()\n",
    "        tensor_s = torch.tensor(s, requires_grad=False, dtype=torch.float32)\n",
    "        tensor_s_n = torch.tensor(s_n, requires_grad=False, dtype=torch.float32)\n",
    "        target_q = self.target_network(tensor_s_n).cpu()\n",
    "        runner_q = self.running_network(tensor_s).cpu()\n",
    "        \n",
    "        update_target = np.empty([self.state_size, self.action_size])\n",
    "        update_target = target_q.detach().numpy()\n",
    "        \n",
    "        q = torch.tensor(target_q)\n",
    "        for i in range(self.batch_size):\n",
    "            if d[i] is True:\n",
    "                update_target[i][a[i]] = r[i]\n",
    "            else:\n",
    "                update_target[i][a[i]] = r[i] + self.discount_rate * torch.max(target_q[i])\n",
    "        \n",
    "\n",
    "        current = torch.tensor(runner_q, requires_grad=True, dtype=torch.float32)\n",
    "        target = torch.tensor(update_target, requires_grad=False, dtype=torch.float32)\n",
    "        \n",
    "        loss_func = torch.nn.SmoothL1Loss()\n",
    "        loss = loss_func(current, target)\n",
    "        self.running_optimizer.zero_grad()\n",
    "        loss.backward()\n",
    "        self.running_optimizer.step()\n",
    "    \n",
    "    def save_model(self, p):\n",
    "        torch.save(self.running_network.state_dict(), p)\n",
    "    \n",
    "    def restore_model(self, p):\n",
    "        self.running_network.load_state_dict(torch.load(p))"
   ]
  },
  {
   "cell_type": "markdown",
   "metadata": {},
   "source": [
    "### Designing the network\n",
    "Designing a deep neural network with 3 hidden layers: [64,64,32]\n",
    "Initialization: Xavier\n",
    "Regularization: Dropout"
   ]
  },
  {
   "cell_type": "code",
   "execution_count": 18,
   "metadata": {},
   "outputs": [],
   "source": [
    "import torch.nn as nn\n",
    "import torch.nn.functional as F\n",
    "import torch.optim as optim\n",
    "dqn_size=[action_size*state_size,64,64,32,action_size]\n",
    "\n",
    "class DQNwrk(nn.Module):\n",
    "    \n",
    "    def __init__(self,dqn_size):\n",
    "        super(DQNwrk, self).__init__()\n",
    "        \n",
    "        self.fc1 = nn.Linear(dqn_size[0], dqn_size[1],bias=True)\n",
    "        nn.init.xavier_normal_(self.fc1.weight)\n",
    "#        nn.init.zeros_(self.fc1.bias)\n",
    "        \n",
    "#        self.pr1 = nn.PReLU(init=0.1)\n",
    "        \n",
    "        self.fc2 = nn.Linear(dqn_size[1], dqn_size[2],bias=True)\n",
    "        nn.init.xavier_normal_(self.fc1.weight)\n",
    "#        nn.init.zeros_(self.fc1.bias)\n",
    "        \n",
    "        self.fc3 = nn.Linear(dqn_size[2], dqn_size[3],bias=True)\n",
    "        nn.init.xavier_normal_(self.fc1.weight)\n",
    "#        nn.init.zeros_(self.fc1.bias)\n",
    "        \n",
    "        self.fc4 = nn.Linear(dqn_size[3], dqn_size[4],bias=True)\n",
    "        nn.init.xavier_normal_(self.fc1.weight)\n",
    "#       nn.init.zeros_(self.fc1.bias)\n",
    "\n",
    "    def forward(self, x):\n",
    "#        x = F.normalize(x,dim=0)\n",
    "        x = F.leaky_relu(self.fc1(x))\n",
    "#        x = F.instance_norm(x)\n",
    "        x = F.dropout(x,p=0.2)\n",
    "        x = F.leaky_relu(self.fc2(x))\n",
    "        x = F.dropout(x,p=0.2)\n",
    "        x = F.relu(self.fc3(x))\n",
    "        x = F.softmax(self.fc4(x))\n",
    "        return x"
   ]
  },
  {
   "cell_type": "code",
   "execution_count": 13,
   "metadata": {},
   "outputs": [],
   "source": [
    "l_r = 2e-5\n",
    "d_r = 0.98\n",
    "r_s = 10000\n",
    "b_s = 64\n",
    "EPSILON_DECAY = 0.9965\n",
    "TOTAL_EPISODES = 2000\n",
    "OBSERVATION_STEP = 100\n",
    "MODEL_UPDATE_EPISODE = 50"
   ]
  },
  {
   "cell_type": "code",
   "execution_count": 19,
   "metadata": {},
   "outputs": [],
   "source": [
    "dqn_size=[action_size*state_size,64,64,32,4]\n",
    "net=DQNwrk(dqn_size)\n",
    "agent = DQNAgt(state_size=37, action_size=4, build_network=net, lr=l_r,\n",
    "                dr=d_r, rs=r_s, bs=b_s)"
   ]
  },
  {
   "cell_type": "markdown",
   "metadata": {},
   "source": [
    "### Training agent"
   ]
  },
  {
   "cell_type": "code",
   "execution_count": 20,
   "metadata": {},
   "outputs": [
    {
     "name": "stdout",
     "output_type": "stream",
     "text": [
      "[INFO] Environment initialized.\n"
     ]
    },
    {
     "name": "stderr",
     "output_type": "stream",
     "text": [
      "/opt/conda/lib/python3.6/site-packages/ipykernel_launcher.py:37: UserWarning: Implicit dimension choice for softmax has been deprecated. Change the call to include dim=X as an argument.\n"
     ]
    },
    {
     "name": "stdout",
     "output_type": "stream",
     "text": [
      "[Step 00000300; Episode 000000] reward: 1.0   max Q: 0.280081  ε= 1\n",
      "[Step 00012300; Episode 000040] reward: -1.0   max Q: 0.253853  ε= 0.8691447705514587\n",
      "[Step 00024300; Episode 000080] reward: 0.0   max Q: 0.252982  ε= 0.7554126321769475\n",
      "[Step 00036300; Episode 000120] reward: 0.0   max Q: 0.25516  ε= 0.6565629388651066  Avg. score: 0.09\n",
      "[Step 00048300; Episode 000160] reward: 2.0   max Q: 0.275868  ε= 0.5706482448525043  Avg. score: 0.92\n",
      "[Step 00060300; Episode 000200] reward: 6.0   max Q: 0.253199  ε= 0.4959759378379223  Avg. score: 1.52\n",
      "[Step 00072300; Episode 000240] reward: 5.0   max Q: 0.257834  ε= 0.4310748926911856  Avg. score: 2.22\n",
      "[Step 00084300; Episode 000280] reward: 5.0   max Q: 0.26967  ε= 0.3746664886985753  Avg. score: 2.79\n",
      "[Step 00096300; Episode 000320] reward: 8.0   max Q: 0.272273  ε= 0.32563941935324386  Avg. score: 3.54\n",
      "[Step 00108300; Episode 000360] reward: 5.0   max Q: 0.511458  ε= 0.2830277984162855  Avg. score: 4.38\n",
      "[Step 00120300; Episode 000400] reward: 3.0   max Q: 0.258599  ε= 0.245992130914207  Avg. score: 4.73\n",
      "[Step 00132300; Episode 000440] reward: 6.0   max Q: 0.278352  ε= 0.2138027741808928  Avg. score: 5.09\n",
      "[Step 00144300; Episode 000480] reward: 3.0   max Q: 0.461489  ε= 0.18582556310871748  Avg. score: 4.84\n",
      "[Step 00156300; Episode 000520] reward: 12.0   max Q: 0.534073  ε= 0.1615093164107218  Avg. score: 3.99\n",
      "[Step 00168300; Episode 000560] reward: 6.0   max Q: 0.258417  ε= 0.14037497775371982  Avg. score: 3.52\n",
      "[Step 00180300; Episode 000600] reward: 6.0   max Q: 0.312926  ε= 0.12200617783092295  Avg. score: 3.75\n",
      "[Step 00192300; Episode 000640] reward: 3.0   max Q: 0.348154  ε= 0.106041031436718  Avg. score: 4.08\n",
      "[Step 00204300; Episode 000680] reward: 7.0   max Q: 0.357919  ε= 0.09216500793710629  Avg. score: 5.22\n",
      "[Step 00216300; Episode 000720] reward: 9.0   max Q: 0.401224  ε= 0.08010473467636962  Avg. score: 5.86\n",
      "[Step 00228300; Episode 000760] reward: 1.0   max Q: 0.58608  ε= 0.06962261124037876  Avg. score: 6.57\n",
      "[Step 00240300; Episode 000800] reward: 7.0   max Q: 0.432671  ε= 0.060512128471712424  Avg. score: 6.71\n",
      "[Step 00252300; Episode 000840] reward: 10.0   max Q: 0.907076  ε= 0.0525938000161269  Avg. score: 7.36\n",
      "[Step 00264300; Episode 000880] reward: 10.0   max Q: 0.459357  ε= 0.04571162624744593  Avg. score: 8.02\n",
      "[Step 00276300; Episode 000920] reward: 14.0   max Q: 0.462382  ε= 0.039730020906370435  Avg. score: 7.97\n",
      "[Step 00288300; Episode 000960] reward: 11.0   max Q: 0.469315  ε= 0.034531139904671986  Avg. score: 8.08\n",
      "[Step 00300300; Episode 001000] reward: 7.0   max Q: 0.470101  ε= 0.030012559669326463  Avg. score: 8.14\n",
      "[Step 00312300; Episode 001040] reward: 10.0   max Q: 0.521285  ε= 0.026085259287458716  Avg. score: 8.14\n",
      "[Step 00324300; Episode 001080] reward: 6.0   max Q: 0.484759  ε= 0.02267186669817361  Avg. score: 8.19\n",
      "[Step 00336300; Episode 001120] reward: 9.0   max Q: 0.490924  ε= 0.019705134379357357  Avg. score: 8.35\n",
      "[Step 00348300; Episode 001160] reward: 9.0   max Q: 0.794569  ε= 0.017126614498832217  Avg. score: 8.51\n",
      "[Step 00360300; Episode 001200] reward: 4.0   max Q: 0.491804  ε= 0.014885507428910809  Avg. score: 9.04\n",
      "[Step 00372300; Episode 001240] reward: 6.0   max Q: 0.494734  ε= 0.012937660938842717  Avg. score: 9.52\n",
      "[Step 00384300; Episode 001280] reward: 5.0   max Q: 0.507325  ε= 0.011244700348163017  Avg. score: 9.65\n",
      "[Step 00396300; Episode 001320] reward: 7.0   max Q: 0.489351  ε= 0.009773272504024051  Avg. score: 9.6\n",
      "[Step 00408300; Episode 001360] reward: 7.0   max Q: 0.507645  ε= 0.008494388688046865  Avg. score: 9.28\n",
      "[Step 00420300; Episode 001400] reward: 13.0   max Q: 0.500109  ε= 0.007382853507247396  Avg. score: 9.06\n",
      "[Step 00432300; Episode 001440] reward: 11.0   max Q: 0.628953  ε= 0.006416768517571567  Avg. score: 8.99\n",
      "[Step 00444300; Episode 001480] reward: 7.0   max Q: 0.509318  ε= 0.005577100800886566  Avg. score: 9.17\n",
      "[Step 00456300; Episode 001520] reward: 7.0   max Q: 0.531026  ε= 0.004847307995928911  Avg. score: 9.36\n",
      "[Step 00468300; Episode 001560] reward: 10.0   max Q: 0.529052  ε= 0.004213012395913888  Avg. score: 9.15\n",
      "[Step 00480300; Episode 001600] reward: 5.0   max Q: 0.534201  ε= 0.0036617176921770263  Avg. score: 9.22\n",
      "[Step 00492300; Episode 001640] reward: 7.0   max Q: 0.83148  ε= 0.003182562783391418  Avg. score: 9.5\n",
      "[Step 00504300; Episode 001680] reward: 12.0   max Q: 0.505147  ε= 0.0027661078001363464  Avg. score: 9.56\n",
      "[Step 00516300; Episode 001720] reward: 11.0   max Q: 0.525473  ε= 0.002404148129270105  Avg. score: 9.79\n",
      "[Step 00528300; Episode 001760] reward: 8.0   max Q: 0.525656  ε= 0.0020895527741861845  Avg. score: 9.88\n",
      "[Step 00540300; Episode 001800] reward: 12.0   max Q: 0.378357  ε= 0.0018161238664752158  Avg. score: 9.73\n",
      "[Step 00552300; Episode 001840] reward: 11.0   max Q: 0.517473  ε= 0.00157847456122063  Avg. score: 9.64\n",
      "[Step 00564300; Episode 001880] reward: 9.0   max Q: 0.538903  ε= 0.0013719229103334198  Avg. score: 9.66\n",
      "[Step 00576300; Episode 001920] reward: 11.0   max Q: 0.664785  ε= 0.00119239962311603  Avg. score: 10.37\n",
      "[Step 00588300; Episode 001960] reward: 9.0   max Q: 0.51548  ε= 0.0010363678968388277  Avg. score: 10.4\n"
     ]
    }
   ],
   "source": [
    "#env = UnityEnvironment(file_name=\"/data/Banana_Linux_NoVis/Banana.x86_64\")\n",
    "#brain_name = env.brain_names[0]\n",
    "#brain = env.brains[brain_name]  # Refer to the code \"1. Start the Environment\" above.\n",
    "print('[INFO] Environment initialized.')\n",
    "\n",
    "scores = []\n",
    "steps = 0\n",
    "epsilon = 1\n",
    "avg_reward = collections.deque(maxlen=100)\n",
    "state_data = np.empty([37*4])\n",
    "for e in range(TOTAL_EPISODES):\n",
    "    env_info = env.reset(train_mode=True)[brain_name]\n",
    "    state = env_info.vector_observations[0]\n",
    "    if e is 0:\n",
    "        state_data = np.stack([state, state, state, state]).flatten()\n",
    "    score = 0\n",
    "    while True:\n",
    "        if np.random.rand() <= epsilon:\n",
    "            action = np.random.randint(0, 4)\n",
    "        else:\n",
    "            action = agent.get_action(state_data)\n",
    "        env_info = env.step(int(action))[brain_name]\n",
    "        next_state = env_info.vector_observations[0]\n",
    "        next_state = np.append(next_state, state_data[0:-37])\n",
    "        reward = env_info.rewards[0]\n",
    "        done = env_info.local_done[0]\n",
    "        \n",
    "        agent.append_replay_memory(state_data, action, reward, next_state, done)\n",
    "        \n",
    "        if steps > OBSERVATION_STEP:\n",
    "            agent.train()\n",
    "\n",
    "        score += reward\n",
    "        state_data = next_state\n",
    "        steps += 1\n",
    "        \n",
    "        if done:\n",
    "            scores.append(score)\n",
    "            avg_reward.append(score)\n",
    "            break\n",
    "             \n",
    "    if e % 40 == 0:\n",
    "        max_q = agent.max_q(state_data)\n",
    "        if not e >= 100:\n",
    "            print('[Step ' + str(steps).zfill(8) + '; Episode ' + str(e).zfill(6) + '] reward: ' + str(score),\n",
    "                  \"  max Q: \" + str(max_q) +\n",
    "                  \"  ε= \" + str(epsilon))\n",
    "        else:\n",
    "            print('[Step ' + str(steps).zfill(8) + '; Episode ' + str(e).zfill(6) + '] reward: ' + str(score),\n",
    "                  \"  max Q: \" + str(max_q) +\n",
    "                  \"  ε= \" + str(epsilon) + \n",
    "                 \"  Avg. score: \" + str(np.average(avg_reward)))\n",
    "    \n",
    "    if e % MODEL_UPDATE_EPISODE == 0:\n",
    "        agent.update_target_network()\n",
    "    \n",
    "    if len(avg_reward) is 100:\n",
    "        avg = np.average(avg_reward)\n",
    "        if avg > 13:\n",
    "            print(\"[INFO] Training completed. Total episode: \" + str(e))\n",
    "            break\n",
    "    \n",
    "    epsilon *= EPSILON_DECAY\n",
    "\n",
    "with open('save\\\\scores.pickle', 'wb') as f:\n",
    "    pickle.dump(scores, f, pickle.HIGHEST_PROTOCOL)\n",
    "    f.close()\n",
    "\n",
    "agent.save_model('save\\\\model')"
   ]
  },
  {
   "cell_type": "markdown",
   "metadata": {},
   "source": [
    "### Plot the results"
   ]
  },
  {
   "cell_type": "code",
   "execution_count": 22,
   "metadata": {},
   "outputs": [
    {
     "data": {
      "image/png": "[encoded data removed]",
      "text/plain": [
       "<matplotlib.figure.Figure at 0x7f2fab797128>"
      ]
     },
     "metadata": {
      "needs_background": "light"
     },
     "output_type": "display_data"
    }
   ],
   "source": [
    "fig = plt.plot()\n",
    "plt.plot(range(len(scores)), scores)\n",
    "plt.xlabel(\"Episode\") \n",
    "plt.ylabel(\"Total Reward\")\n",
    "plt.savefig(\"save\\\\reward.png\")"
   ]
  },
  {
   "cell_type": "code",
   "execution_count": null,
   "metadata": {},
   "outputs": [],
   "source": []
  }
 ],
 "metadata": {
  "kernelspec": {
   "display_name": "Python 3",
   "language": "python",
   "name": "python3"
  },
  "language_info": {
   "codemirror_mode": {
    "name": "ipython",
    "version": 3
   },
   "file_extension": ".py",
   "mimetype": "text/x-python",
   "name": "python",
   "nbconvert_exporter": "python",
   "pygments_lexer": "ipython3",
   "version": "3.5.4"
  }
 },
 "nbformat": 4,
 "nbformat_minor": 2
}
